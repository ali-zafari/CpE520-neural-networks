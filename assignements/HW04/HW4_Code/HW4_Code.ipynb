{
 "cells": [
  {
   "cell_type": "code",
   "execution_count": null,
   "metadata": {},
   "outputs": [],
   "source": []
  },
  {
   "cell_type": "code",
   "execution_count": 3,
   "metadata": {},
   "outputs": [],
   "source": [
    "\n",
    "import mnist\n",
    "import os\n",
    "import numpy as np\n",
    "\n",
    "mnist.temporary_dir = lambda: os.getcwd()\n",
    "\n",
    "# Each of these functions first downloads the data and returns a numpy array.\n",
    "train_images = mnist.train_images()\n",
    "\n",
    "assert train_images.shape == (60000, 28, 28), 'train_imgages shape is not correct'"
   ]
  },
  {
   "cell_type": "code",
   "execution_count": 4,
   "metadata": {},
   "outputs": [
    {
     "name": "stdout",
     "output_type": "stream",
     "text": [
      "[[[ 0  0  0  0]\n",
      "  [ 3  3  3  0]\n",
      "  [ 6  6  6  0]\n",
      "  [ 9  9  9  9]]\n",
      "\n",
      " [[-3 -3 -3  1]\n",
      "  [ 0  0  0  1]\n",
      "  [ 3  3  3  1]\n",
      "  [ 6  6  6 10]]]\n",
      "[[ 0.          5.29150262]\n",
      " [ 5.19615242  1.        ]\n",
      " [10.39230485  5.29150262]\n",
      " [18.         14.4222051 ]]\n",
      "[[0]\n",
      " [1]\n",
      " [1]\n",
      " [1]]\n"
     ]
    }
   ],
   "source": [
    "a = np.array([[1,2,3,4], [4,5,6,4], [7,8,9,4], [10, 11, 12, 13]])\n",
    "b = np.array([[1,2,3,4], [4,5,6,3]])\n",
    "\n",
    "a_minus_bs = np.array([a-b[i, :] for i in range(b.shape[0])])\n",
    "norms = np.linalg.norm(a_minus_bs, axis=2).T\n",
    "idx = np.argmin(norms, axis=1).reshape(a.shape[0], 1)\n",
    "\n",
    "\n",
    "print(a_minus_bs)\n",
    "print(norms)\n",
    "print(idx)"
   ]
  },
  {
   "cell_type": "code",
   "execution_count": 5,
   "metadata": {},
   "outputs": [
    {
     "data": {
      "image/png": "[encoded data removed]",
      "text/plain": [
       "<Figure size 432x288 with 9 Axes>"
      ]
     },
     "metadata": {
      "needs_background": "light"
     },
     "output_type": "display_data"
    }
   ],
   "source": [
    "import matplotlib.pyplot as plt\n",
    "\n",
    "fig, ax = plt.subplots(3, 3)\n",
    "for i in range(3):\n",
    "    for j in range(3):\n",
    "        ax[i][j].imshow(train_images[3 * i + j], cmap='Greys')\n",
    "        ax[i][j].xaxis.set_visible(False)\n",
    "        ax[i][j].yaxis.set_visible(False)"
   ]
  },
  {
   "cell_type": "code",
   "execution_count": 6,
   "metadata": {},
   "outputs": [
    {
     "name": "stdout",
     "output_type": "stream",
     "text": [
      "Train images before reshape: (60000, 28, 28)\n",
      "Train images after  reshape: (60000, 784)\n"
     ]
    }
   ],
   "source": [
    "train_images_reshaped = train_images.reshape((train_images.shape[0], 28*28))\n",
    "print(f'Train images before reshape: {train_images.shape}')\n",
    "print(f'Train images after  reshape: {train_images_reshaped.shape}')\n",
    "\n",
    "assert all(train_images[0, 20] == train_images_reshaped[0, (20)*28:(20+1)*28]), \"train reshaping is wrong\""
   ]
  },
  {
   "cell_type": "code",
   "execution_count": 7,
   "metadata": {},
   "outputs": [],
   "source": [
    "def initialize_centroids(X, K):\n",
    "    return X[np.random.choice(X.shape[0], K, replace=False), :]\n",
    "\n",
    "\n",
    "def find_closest_centroids(X, centroids):\n",
    "    print('find_closest_centroids_started')\n",
    "    K = centroids.shape[0]\n",
    "    idx = np.zeros(X.shape[0])\n",
    "    \n",
    "    for n in range(X.shape[0]):\n",
    "        min_distance = np.inf\n",
    "        j = 0\n",
    "        for m in range(K):\n",
    "            \n",
    "            norm = np.linalg.norm(centroids[m, :]-X[n, :])\n",
    "            #print(m, n, norm)\n",
    "            if norm < min_distance:\n",
    "                min_distance = norm\n",
    "                j = m\n",
    "        idx[n] = j\n",
    "    print('find_closest_centroids_finished')\n",
    "    return idx\n",
    "\n",
    "\n",
    "def find_closest_centroids_numpyed(X, centroids): #maybe faster! but is not memory friendly\n",
    "    K = centroids.shape[0]\n",
    "\n",
    "    X_minus_Cs = np.array([X-centroids[i, :] for i in range(K)])\n",
    "    norms = np.linalg.norm(X_minus_Cs, axis=2).T\n",
    "    idx = np.argmin(norms, axis=1)\n",
    "    print('find_closest_centroids_numpyed_finished')\n",
    "    return idx\n",
    "\n",
    "\n",
    "def compute_centroids(X, idx, K, prev_centroids):\n",
    "    centroids = np.copy(prev_centroids)\n",
    "    \n",
    "    for i in np.unique(idx).astype(int):\n",
    "        centroids[i, :] = np.mean(X[idx.astype(int) == i, :], axis=0)\n",
    "    return centroids\n",
    "\n",
    "\n",
    "def show_centroids(centroids, K):\n",
    "    fig, ax = plt.subplots(K//5, 5)\n",
    "    for i in range(K//5):\n",
    "        for j in range(5):\n",
    "            ax[i][j].imshow(centroids[5 * i + j].reshape(28, 28), cmap='Greys')\n",
    "            ax[i][j].xaxis.set_visible(False)\n",
    "            ax[i][j].yaxis.set_visible(False)\n",
    "    plt.show()\n",
    "\n",
    "    \n",
    "def distortion(final_centroids, final_idx):\n",
    "    J = 0\n",
    "    \n",
    "    for i in np.unique(final_idx).astype(int):\n",
    "        X_desired = X[final_idx.astype(int) == i, :]\n",
    "        X_desired = X_desired-final_centroids[i, :]\n",
    "        J += np.mean(X_desired**2)\n",
    "    return J\n",
    "\n",
    "\n",
    "def kmeans_algorithm(X, initial_centroids, K):\n",
    "    prev_centroids = initial_centroids\n",
    "    \n",
    "    for i in range(20):\n",
    "        idx = find_closest_centroids(X, prev_centroids)\n",
    "        new_centroids = compute_centroids(X, idx, K, prev_centroids)\n",
    "        \n",
    "        centroids_change_metric = np.linalg.norm(new_centroids - prev_centroids)\n",
    "        #print(f'centroids got changed as {centroids_change_metric}.')\n",
    "        if centroids_change_metric < 0.01:\n",
    "            print(f'K-Means algorithm converged on {i}(th) iteration.')\n",
    "            break\n",
    "        prev_centroids = new_centroids\n",
    "        print('------------------------------------------')\n",
    "    return new_centroids, idx\n",
    "    \n",
    "    \n",
    "def kmeans_algorithm_with_distortion(X, max_iters, K):\n",
    "    lowest_J = np.inf\n",
    "    new_centroids = np.zeros((K, X.shape[1]))\n",
    "    new_idx = np.zeros(X.shape[0])\n",
    "    \n",
    "    for i in range(max_iters):\n",
    "        print(f'iteration {i+1} of {max_iters} is going on...')\n",
    "        new_initial_centroids = initialize_centroids(X, K)\n",
    "        new_centroids, new_idx = kmeans_algorithm(X, new_initial_centroids, K)\n",
    "        new_J = distortion(new_centroids, new_idx)\n",
    "        print(f'New J: {new_J}')\n",
    "        if new_J < lowest_J:\n",
    "            lowest_J = new_J\n",
    "            final_centroids = new_centroids\n",
    "            final_idx = new_idx\n",
    "            \n",
    "    return final_centroids, final_idx\n",
    "            "
   ]
  },
  {
   "cell_type": "code",
   "execution_count": 8,
   "metadata": {},
   "outputs": [
    {
     "name": "stdout",
     "output_type": "stream",
     "text": [
      "(60000, 784)\n"
     ]
    }
   ],
   "source": [
    "K = 10\n",
    "max_iters = 2\n",
    "\n",
    "X = train_images_reshaped[np.random.choice(train_images_reshaped.shape[0], 60000, replace=False), :]/255\n",
    "#X = train_images_reshaped/255\n",
    "\n",
    "print(X.shape)"
   ]
  },
  {
   "cell_type": "code",
   "execution_count": 9,
   "metadata": {},
   "outputs": [
    {
     "name": "stdout",
     "output_type": "stream",
     "text": [
      "iteration 1 of 2 is going on...\n",
      "find_closest_centroids_started\n",
      "find_closest_centroids_finished\n",
      "------------------------------------------\n",
      "find_closest_centroids_started\n",
      "find_closest_centroids_finished\n",
      "------------------------------------------\n",
      "find_closest_centroids_started\n",
      "find_closest_centroids_finished\n",
      "------------------------------------------\n",
      "find_closest_centroids_started\n",
      "find_closest_centroids_finished\n",
      "------------------------------------------\n",
      "find_closest_centroids_started\n",
      "find_closest_centroids_finished\n",
      "------------------------------------------\n",
      "find_closest_centroids_started\n",
      "find_closest_centroids_finished\n",
      "------------------------------------------\n",
      "find_closest_centroids_started\n",
      "find_closest_centroids_finished\n",
      "------------------------------------------\n",
      "find_closest_centroids_started\n",
      "find_closest_centroids_finished\n",
      "------------------------------------------\n",
      "find_closest_centroids_started\n",
      "find_closest_centroids_finished\n",
      "------------------------------------------\n",
      "find_closest_centroids_started\n",
      "find_closest_centroids_finished\n",
      "------------------------------------------\n",
      "find_closest_centroids_started\n",
      "find_closest_centroids_finished\n",
      "------------------------------------------\n",
      "find_closest_centroids_started\n",
      "find_closest_centroids_finished\n",
      "------------------------------------------\n",
      "find_closest_centroids_started\n",
      "find_closest_centroids_finished\n",
      "------------------------------------------\n",
      "find_closest_centroids_started\n",
      "find_closest_centroids_finished\n",
      "------------------------------------------\n",
      "find_closest_centroids_started\n",
      "find_closest_centroids_finished\n",
      "------------------------------------------\n",
      "find_closest_centroids_started\n",
      "find_closest_centroids_finished\n",
      "------------------------------------------\n",
      "find_closest_centroids_started\n",
      "find_closest_centroids_finished\n",
      "------------------------------------------\n",
      "find_closest_centroids_started\n",
      "find_closest_centroids_finished\n",
      "------------------------------------------\n",
      "find_closest_centroids_started\n",
      "find_closest_centroids_finished\n",
      "------------------------------------------\n",
      "find_closest_centroids_started\n",
      "find_closest_centroids_finished\n",
      "------------------------------------------\n",
      "New J: 0.5124300101747254\n",
      "iteration 2 of 2 is going on...\n",
      "find_closest_centroids_started\n",
      "find_closest_centroids_finished\n",
      "------------------------------------------\n",
      "find_closest_centroids_started\n",
      "find_closest_centroids_finished\n",
      "------------------------------------------\n",
      "find_closest_centroids_started\n",
      "find_closest_centroids_finished\n",
      "------------------------------------------\n",
      "find_closest_centroids_started\n",
      "find_closest_centroids_finished\n",
      "------------------------------------------\n",
      "find_closest_centroids_started\n",
      "find_closest_centroids_finished\n",
      "------------------------------------------\n",
      "find_closest_centroids_started\n",
      "find_closest_centroids_finished\n",
      "------------------------------------------\n",
      "find_closest_centroids_started\n",
      "find_closest_centroids_finished\n",
      "------------------------------------------\n",
      "find_closest_centroids_started\n",
      "find_closest_centroids_finished\n",
      "------------------------------------------\n",
      "find_closest_centroids_started\n",
      "find_closest_centroids_finished\n",
      "------------------------------------------\n",
      "find_closest_centroids_started\n",
      "find_closest_centroids_finished\n",
      "------------------------------------------\n",
      "find_closest_centroids_started\n",
      "find_closest_centroids_finished\n",
      "------------------------------------------\n",
      "find_closest_centroids_started\n",
      "find_closest_centroids_finished\n",
      "------------------------------------------\n",
      "find_closest_centroids_started\n",
      "find_closest_centroids_finished\n",
      "------------------------------------------\n",
      "find_closest_centroids_started\n",
      "find_closest_centroids_finished\n",
      "------------------------------------------\n",
      "find_closest_centroids_started\n",
      "find_closest_centroids_finished\n",
      "------------------------------------------\n",
      "find_closest_centroids_started\n",
      "find_closest_centroids_finished\n",
      "------------------------------------------\n",
      "find_closest_centroids_started\n",
      "find_closest_centroids_finished\n",
      "------------------------------------------\n",
      "find_closest_centroids_started\n",
      "find_closest_centroids_finished\n",
      "------------------------------------------\n",
      "find_closest_centroids_started\n",
      "find_closest_centroids_finished\n",
      "------------------------------------------\n",
      "find_closest_centroids_started\n",
      "find_closest_centroids_finished\n",
      "------------------------------------------\n",
      "New J: 0.5011743417342556\n"
     ]
    }
   ],
   "source": [
    "final_centroids, final_idx = kmeans_algorithm_with_distortion(X, max_iters, K)"
   ]
  },
  {
   "cell_type": "code",
   "execution_count": 10,
   "metadata": {},
   "outputs": [],
   "source": [
    "#print(final_idx)"
   ]
  },
  {
   "cell_type": "code",
   "execution_count": 11,
   "metadata": {},
   "outputs": [
    {
     "data": {
      "image/png": "[encoded data removed]",
      "text/plain": [
       "<Figure size 432x288 with 10 Axes>"
      ]
     },
     "metadata": {
      "needs_background": "light"
     },
     "output_type": "display_data"
    }
   ],
   "source": [
    "show_centroids(final_centroids, K)"
   ]
  },
  {
   "cell_type": "code",
   "execution_count": 12,
   "metadata": {},
   "outputs": [
    {
     "name": "stdout",
     "output_type": "stream",
     "text": [
      "number of input in idx=0 cluster:  2989\n",
      "number of input in idx=1 cluster:  6740\n",
      "number of input in idx=2 cluster:  5588\n",
      "number of input in idx=3 cluster:  3175\n",
      "number of input in idx=4 cluster:  6659\n",
      "number of input in idx=5 cluster:  5001\n",
      "number of input in idx=6 cluster:  9079\n",
      "number of input in idx=7 cluster:  7143\n",
      "number of input in idx=8 cluster:  7983\n",
      "number of input in idx=9 cluster:  5643\n"
     ]
    }
   ],
   "source": [
    "for i in np.unique(final_idx).astype(int):\n",
    "        print(f'number of input in idx={i} cluster: ', X[final_idx.astype(int) == i, :].shape[0])"
   ]
  },
  {
   "cell_type": "code",
   "execution_count": null,
   "metadata": {},
   "outputs": [],
   "source": []
  }
 ],
 "metadata": {
  "kernelspec": {
   "display_name": "Python 3",
   "language": "python",
   "name": "python3"
  },
  "language_info": {
   "codemirror_mode": {
    "name": "ipython",
    "version": 3
   },
   "file_extension": ".py",
   "mimetype": "text/x-python",
   "name": "python",
   "nbconvert_exporter": "python",
   "pygments_lexer": "ipython3",
   "version": "3.8.1"
  }
 },
 "nbformat": 4,
 "nbformat_minor": 4
}
